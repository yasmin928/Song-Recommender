{
 "cells": [
  {
   "cell_type": "markdown",
   "id": "549a5513",
   "metadata": {},
   "source": [
    "#  <span style=\"color:brown\">Pythone Implementation"
   ]
  },
  {
   "cell_type": "markdown",
   "id": "5d4ec7fa",
   "metadata": {},
   "source": [
    "## Problem 17\n",
    "\n",
    "### <span style=\"color:Blue\">Song Recommender</span>\n",
    "\n",
    "#### <a id='seq_1'></a> Build a simple program that recommend songs to the user , based on his feelings and current mood, the songs recommendation rely on five categories:\n",
    "- Cheering\n",
    "- Sad\n",
    "- In Love\n",
    "- Motivated\n",
    "- Calm\n",
    "\n",
    "#### Each song has a total score of 5 for each category, so you should ask the user for his percentage for each category, with a simple restriction that the category score must not exceed 5.\n",
    "#### Then you should find the closest song to his feelings based on a simple difference calculation equation shown below:\n",
    "$ \\sqrt{(I_1 - R_1)^2 + (I_2 - R_2)^2 + (I_3 - R_3)^2 + (I_4 - R_4)^2} $\n",
    "##### As $ I_i $ is the input feeling value number i, and $ R_i $ is the refrence feeling value number i, as  $ i <= 4 $\n",
    "##### you will find below in the coding cell a nested dictionary with all the songs and its scores for each category, and also atatched in each dictionary a link to the song in youtube.\n",
    "\n",
    "#### Output Discription:\n",
    "|Case|Output|\n",
    "|--|--|\n",
    "|Standard|Song Name<br>Link to the video in youtube|\n",
    "\n",
    "#### Notes\n",
    "- The input categories order is as [above](#seq_1)\n",
    "- Make sure the score for each category is 5 at max.\n",
    "- All inputs must be casted to float.\n",
    "- The songs are listed in a nested dictionary with values of each category down below."
   ]
  },
  {
   "cell_type": "code",
   "execution_count": 30,
   "id": "c3583bc6",
   "metadata": {
    "scrolled": true
   },
   "outputs": [],
   "source": [
    "### Write your answer here ###\n",
    "import pickle\n",
    "song_dict = pickle.load(open('Datasets/dict_of_songs.pkl', 'rb'))"
   ]
  },
  {
   "cell_type": "code",
   "execution_count": 34,
   "id": "58f9a6b4",
   "metadata": {},
   "outputs": [
    {
     "data": {
      "text/plain": [
       "['Ed Sheeran - Perfect',\n",
       " 'George Ezra - Budapest',\n",
       " 'Mark Ronson - Uptown Funk',\n",
       " 'Maroon 5 - Sugar',\n",
       " 'The Lumineers - Sleep On The Floor',\n",
       " 'Imagine Dragons - Demons',\n",
       " 'David Guetta - Titanium ft. Sia',\n",
       " 'Linki Park - Numb',\n",
       " 'Lord Huron - The Night We Met',\n",
       " 'Lana Del Rey - Summertime Sadness',\n",
       " 'LP - Lost On You',\n",
       " 'Rocky III • Eye of the Tiger • Survivor',\n",
       " 'The Script - Hall of Fame',\n",
       " 'Mike Posner - I Took A Pill In Ibiza',\n",
       " 'London Grammar - Nightcall',\n",
       " 'Lykke Li - I Follow Rivers']"
      ]
     },
     "execution_count": 34,
     "metadata": {},
     "output_type": "execute_result"
    }
   ],
   "source": [
    "list(song_dict)"
   ]
  },
  {
   "cell_type": "code",
   "execution_count": 42,
   "id": "5dd4cd4a",
   "metadata": {},
   "outputs": [
    {
     "data": {
      "text/plain": [
       "3.7416573867739413"
      ]
     },
     "execution_count": 42,
     "metadata": {},
     "output_type": "execute_result"
    }
   ],
   "source": [
    "song = [3, 0, 5, 2, 3]\n",
    "user = [5, 1, 3, 1, 1]\n",
    "\n",
    "np.sqrt(\n",
    "    (user[0] - song[0])**2 +(user[1] - song[1])**2 +(user[2] - song[2])**2 +(user[3] - song[3])**2 +(user[4] - song[4])**2\n",
    ")\n"
   ]
  },
  {
   "cell_type": "code",
   "execution_count": 40,
   "id": "a4fa3077",
   "metadata": {},
   "outputs": [
    {
     "data": {
      "text/plain": [
       "[[{'Cheering': 3, 'Sad': 0, 'In love': 5, 'Motivated': 2, 'Calm': 3},\n",
       "  'https://www.youtube.com/watch?v=2Vv-BfVoq4g'],\n",
       " [{'Cheering': 1, 'Sad': 0, 'In love': 5, 'Motivated': 2, 'Calm': 4},\n",
       "  'https://www.youtube.com/watch?v=VHrLPs3_1Fs'],\n",
       " [{'Cheering': 5, 'Sad': 0, 'In love': 2, 'Motivated': 3, 'Calm': 1},\n",
       "  'https://www.youtube.com/watch?v=OPf0YbXqDm0'],\n",
       " [{'Cheering': 5, 'Sad': 0, 'In love': 4, 'Motivated': 4, 'Calm': 1},\n",
       "  'https://www.youtube.com/watch?v=09R8_2nJtjg'],\n",
       " [{'Cheering': 1, 'Sad': 4, 'In love': 4, 'Motivated': 1, 'Calm': 4},\n",
       "  'https://www.youtube.com/watch?v=v4pi1LxuDHc'],\n",
       " [{'Cheering': 3, 'Sad': 3, 'In love': 0, 'Motivated': 5, 'Calm': 0},\n",
       "  'https://www.youtube.com/watch?v=mWRsgZuwf_8'],\n",
       " [{'Cheering': 4, 'Sad': 1, 'In love': 0, 'Motivated': 5, 'Calm': 0},\n",
       "  'https://www.youtube.com/watch?v=JRfuAukYTKg'],\n",
       " [{'Cheering': 0, 'Sad': 5, 'In love': 0, 'Motivated': 5, 'Calm': 0},\n",
       "  'https://www.youtube.com/watch?v=kXYiU_JCYtU'],\n",
       " [{'Cheering': 0, 'Sad': 5, 'In love': 5, 'Motivated': 0, 'Calm': 3},\n",
       "  'https://www.youtube.com/watch?v=wGF7PswOENQ'],\n",
       " [{'Cheering': 0, 'Sad': 5, 'In love': 5, 'Motivated': 0, 'Calm': 5},\n",
       "  'https://www.youtube.com/watch?v=TdrL3QxjyVw'],\n",
       " [{'Cheering': 0, 'Sad': 5, 'In love': 2, 'Motivated': 0, 'Calm': 3},\n",
       "  'https://www.youtube.com/watch?v=wDjeBNv6ip0'],\n",
       " [{'Cheering': 5, 'Sad': 0, 'In love': 0, 'Motivated': 5, 'Calm': 2},\n",
       "  'https://www.youtube.com/watch?v=ERT_7u5L0dc'],\n",
       " [{'Cheering': 4, 'Sad': 2, 'In love': 0, 'Motivated': 5, 'Calm': 0},\n",
       "  'https://www.youtube.com/watch?v=mk48xRzuNvA'],\n",
       " [{'Cheering': 1, 'Sad': 5, 'In love': 0, 'Motivated': 0, 'Calm': 0},\n",
       "  'https://www.youtube.com/watch?v=foE1mO2yM04'],\n",
       " [{'Cheering': 0, 'Sad': 5, 'In love': 0, 'Motivated': 0, 'Calm': 2},\n",
       "  'https://www.youtube.com/watch?v=OZYw0MQp_fI'],\n",
       " [{'Cheering': 2, 'Sad': 5, 'In love': 5, 'Motivated': 0, 'Calm': 1},\n",
       "  'https://www.youtube.com/watch?v=vZYbEL06lEU']]"
      ]
     },
     "execution_count": 40,
     "metadata": {},
     "output_type": "execute_result"
    }
   ],
   "source": [
    "list(song_dict.values())"
   ]
  },
  {
   "cell_type": "code",
   "execution_count": 37,
   "id": "a0f620bf",
   "metadata": {},
   "outputs": [
    {
     "data": {
      "text/plain": [
       "'LP - Lost On You'"
      ]
     },
     "execution_count": 37,
     "metadata": {},
     "output_type": "execute_result"
    }
   ],
   "source": [
    "list(song_dict)[np.argmin(song_to_hear)]\n",
    "\n",
    "# list(song_dict)[np.argmax(song_to_hear)]\n",
    "\n",
    "list(song_dict)[]"
   ]
  },
  {
   "cell_type": "code",
   "execution_count": 43,
   "id": "30a3ba8b",
   "metadata": {},
   "outputs": [],
   "source": [
    "import numpy as np\n",
    "\n",
    "def get_song(user, song = song_dict):\n",
    "    song_to_hear = list()\n",
    "    #=== Formula calculation\n",
    "    for i in song_dict:\n",
    "        value = np.sqrt((user[0] - float(song[i][0]['Cheering']))**2 +\n",
    "                        (user[1] - float(song[i][0]['Sad']))**2 +\n",
    "                        (user[2] - float(song[i][0]['In love']))**2 +\n",
    "                        (user[3] - float(song[i][0]['Motivated']))**2 +\n",
    "                        (user[4] - float(song[i][0]['Calm'])**2))\n",
    "        song_to_hear.append(value)\n",
    "    #=== Song Prediction\n",
    "    print(f'Got You! Lets listen \"{list(song_dict)[np.argmin(song_to_hear)]}\" on here: \" {list(song_dict.values())[np.argmin(song_to_hear)][1]} \"')\n"
   ]
  },
  {
   "cell_type": "code",
   "execution_count": 46,
   "id": "3955aef3",
   "metadata": {},
   "outputs": [
    {
     "name": "stdout",
     "output_type": "stream",
     "text": [
      "between 1 & 5: How likely to say that you are: Cheering        5\n",
      "between 1 & 5: How likely to say that you are: Sad        1\n",
      "between 1 & 5: How likely to say that you are: In Love        3\n",
      "between 1 & 5: How likely to say that you are: Motivated        1\n",
      "between 1 & 5: How likely to say that you are: Calm        1\n",
      "Got You! Lets listen \"Ed Sheeran - Perfect\" on here: \" https://www.youtube.com/watch?v=2Vv-BfVoq4g \"\n",
      "Let's pick another one  please enter (Yes/No) No\n",
      "Bye\n"
     ]
    }
   ],
   "source": [
    "user_cond = list()\n",
    "feelings = ['Cheering', 'Sad', 'In Love', 'Motivated', 'Calm']\n",
    "j = 0\n",
    "indicator = True\n",
    "another = True\n",
    "while another:\n",
    "    #=== Reading from user\n",
    "    user_cond.append(float(input(f'between 1 & 5: How likely to say that you are: {feelings[j]}        ')))\n",
    "    j += 1\n",
    "    \n",
    "    #=== Start checking\n",
    "    if len(user_cond) == 5:\n",
    "        j = 0\n",
    "        \n",
    "        #check the 5 values\n",
    "        for i in user_cond:\n",
    "            if i > 5.0 or i < 1.0:\n",
    "                print('you have to input a number between 1 & 5')\n",
    "                indicator = False\n",
    "                break\n",
    "                \n",
    "        #== check the possibility to get the songs\n",
    "        if indicator == True:\n",
    "            get_song(user_cond)\n",
    "            #==Ask for more\n",
    "            x = input(f\"Let's pick another one  please enter (Yes/No) \").lower()   \n",
    "            if x == 'yes':\n",
    "                another = True\n",
    "            else: \n",
    "                print('Bye')\n",
    "                another = False\n",
    "        indicator = True\n",
    "        user_cond = list()"
   ]
  },
  {
   "cell_type": "markdown",
   "id": "51ed13e3",
   "metadata": {},
   "source": [
    "## Good Luck"
   ]
  }
 ],
 "metadata": {
  "kernelspec": {
   "display_name": "Python 3 (ipykernel)",
   "language": "python",
   "name": "python3"
  },
  "language_info": {
   "codemirror_mode": {
    "name": "ipython",
    "version": 3
   },
   "file_extension": ".py",
   "mimetype": "text/x-python",
   "name": "python",
   "nbconvert_exporter": "python",
   "pygments_lexer": "ipython3",
   "version": "3.10.7"
  }
 },
 "nbformat": 4,
 "nbformat_minor": 5
}
